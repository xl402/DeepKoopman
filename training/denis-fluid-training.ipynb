{
 "cells": [
  {
   "cell_type": "code",
   "execution_count": 1,
   "metadata": {},
   "outputs": [],
   "source": [
    "import numpy as np\n",
    "from mpl_toolkits.mplot3d import Axes3D\n",
    "import numpy as np\n",
    "import matplotlib.pyplot as plt\n",
    "from tqdm import tqdm\n",
    "import time\n",
    "import pandas as pd\n",
    "import os\n",
    "import torch\n",
    "import torch.optim as optim\n",
    "\n",
    "from networks import *\n",
    "from helper_fn import *\n",
    "\n",
    "%load_ext autoreload\n",
    "%autoreload 2"
   ]
  },
  {
   "cell_type": "code",
   "execution_count": 2,
   "metadata": {},
   "outputs": [],
   "source": [
    "train_data = torch.tensor(np.load(\"data/fluid_train.npy\")).float()\n",
    "val_data = torch.tensor(np.load(\"data/fluid_val.npy\")).float()"
   ]
  },
  {
   "cell_type": "code",
   "execution_count": 3,
   "metadata": {},
   "outputs": [
    {
     "data": {
      "image/png": "[encoded data removed]",
      "text/plain": [
       "<Figure size 432x288 with 1 Axes>"
      ]
     },
     "metadata": {
      "needs_background": "light"
     },
     "output_type": "display_data"
    }
   ],
   "source": [
    "fig = plt.figure()\n",
    "ax = fig.add_subplot(111, projection='3d')\n",
    "for i in np.random.randint(0, len(train_data)-1, 10):\n",
    "    ax.plot(train_data[i, :, 0].numpy(), train_data[i, :, 1].numpy(), train_data[i, :, 2].numpy())\n",
    "ax.set_xlim([-1, 1])\n",
    "ax.set_ylim([-1, 1])\n",
    "ax.set_zlim([0, 1])\n",
    "ax.set_axis_off()\n",
    "plt.show()"
   ]
  },
  {
   "cell_type": "code",
   "execution_count": 4,
   "metadata": {},
   "outputs": [
    {
     "name": "stdout",
     "output_type": "stream",
     "text": [
      "Training on cpu\n",
      "Load from checkpoint: models/model-denis-50-1579778231.pt\n",
      "Loading logs from logs/denis_fluid/logs.csv\n"
     ]
    }
   ],
   "source": [
    "from helper_fn import *\n",
    "from networks import *\n",
    "\n",
    "RESET_LOGS = False\n",
    "\n",
    "CPT = \"model-denis-50-1579778231\"\n",
    "\n",
    "if len(CPT)!=0:\n",
    "    MODEL_NAME = \"{}\".format(CPT)\n",
    "else:\n",
    "    MODEL_NAME = \"model-denis-50-{}\".format(int(time.time()))\n",
    "    \n",
    "BATCH_SIZE = 100\n",
    "EPOCHS = 500\n",
    "\n",
    "SAVE_METHOD = 'Best'\n",
    "ROOT_DIR = \"logs/denis_fluid\"\n",
    "CPT_DIR = \"models/{}.pt\".format(CPT)\n",
    "FIG_DIR = os.path.join(ROOT_DIR, \"figures/{}\".format(MODEL_NAME))\n",
    "DIST_DIR = os.path.join(ROOT_DIR, \"dists/{}\".format(MODEL_NAME))\n",
    "EIG_DIR = os.path.join(ROOT_DIR, \"eigens/{}\".format(MODEL_NAME))\n",
    "\n",
    "CONFIG_DIR = os.path.join(ROOT_DIR, 'model_configs.csv')\n",
    "SAVE_FIG = True\n",
    "SAVE_DIST = False\n",
    "SAVE_EIG = True\n",
    "\n",
    "device = torch.device(\"cuda:0\" if torch.cuda.is_available() else \"cpu\")\n",
    "print(\"Training on {}\".format(device))\n",
    "\n",
    "if not os.path.isdir(FIG_DIR) and SAVE_FIG:\n",
    "    os.mkdir(FIG_DIR)\n",
    "    \n",
    "if not os.path.isdir(DIST_DIR) and SAVE_DIST:\n",
    "    os.mkdir(DIST_DIR)\n",
    "    \n",
    "if not os.path.isdir(EIG_DIR) and SAVE_EIG:\n",
    "    os.mkdir(EIG_DIR)\n",
    "\n",
    "log_dir = os.path.join(ROOT_DIR, 'logs.csv')\n",
    "model_dir = os.path.join(ROOT_DIR, 'models/{}.pt'.format(MODEL_NAME))\n",
    "\n",
    "encoder_shape = [3, 4, 8, 16, 32, 64, 64, 38]\n",
    "aux_shape =     [3, 4, 8, 16, 32, 64, 64, 38, encoder_shape[0]+encoder_shape[-1]]\n",
    "\n",
    "params = {'encoder_shape': encoder_shape, 'aux_shape': aux_shape,'n_shifts': 50,\n",
    "          'state_loss': 1, 'latent_loss': 10, 'reg_loss': 1e-6, 'inf_loss': 1e-4}\n",
    "\n",
    "meta_df = save_configs2(MODEL_NAME, params, CONFIG_DIR)\n",
    "\n",
    "if len(CPT)!=0:\n",
    "    print(\"Load from checkpoint: {}\".format(CPT_DIR))\n",
    "    model = torch.load(os.path.join(ROOT_DIR, CPT_DIR)).to(device)\n",
    "    model.params = params\n",
    "else:\n",
    "    print(\"Initializing new model {}\".format(MODEL_NAME))\n",
    "    model = DENIS(params).to(device)\n",
    "# load data frame\n",
    "df = load_df(log_dir, RESET_LOGS)\n",
    "\n",
    "# initialize the optimizer\n",
    "optimizer = optim.Adam(model.parameters(), lr = 0.00001)"
   ]
  },
  {
   "cell_type": "code",
   "execution_count": 5,
   "metadata": {},
   "outputs": [],
   "source": [
    "train_data = train_data.to(device)\n",
    "val_data = val_data.to(device)"
   ]
  },
  {
   "cell_type": "code",
   "execution_count": null,
   "metadata": {
    "scrolled": true
   },
   "outputs": [
    {
     "name": "stderr",
     "output_type": "stream",
     "text": [
      "loss: 0.0002, val_loss: 0.0002, state_mse: 0.0001:   0%|          | 1/200 [00:17<49:19, 14.87s/it]/anaconda3/envs/DKoopman/lib/python3.7/site-packages/torch/serialization.py:292: UserWarning: Couldn't retrieve source code for container of type DENIS. It won't be checked for correctness upon loading.\n",
      "  \"type \" + obj.__name__ + \". It won't be checked \"\n",
      "/anaconda3/envs/DKoopman/lib/python3.7/site-packages/torch/serialization.py:292: UserWarning: Couldn't retrieve source code for container of type Linear. It won't be checked for correctness upon loading.\n",
      "  \"type \" + obj.__name__ + \". It won't be checked \"\n",
      "loss: 0.0001, val_loss: 0.0002, state_mse: 0.0001: 100%|██████████| 200/200 [10:25<00:00,  3.13s/it]\n",
      "loss: 0.0001, val_loss: 0.0002, state_mse: 0.0001: 100%|██████████| 200/200 [10:17<00:00,  3.09s/it]\n",
      "loss: 0.0001, val_loss: 0.0002, state_mse: 0.0001: 100%|██████████| 200/200 [10:25<00:00,  3.13s/it]\n",
      "loss: 0.0001, val_loss: 0.0001, state_mse: 0.0001: 100%|██████████| 200/200 [11:11<00:00,  3.36s/it]\n",
      "loss: 0.0001, val_loss: 0.0001, state_mse: 0.0001: 100%|██████████| 200/200 [23:07<00:00,  6.94s/it]   \n",
      "loss: 0.0001, val_loss: 0.0001, state_mse: 0.0001:  25%|██▌       | 50/200 [02:42<06:34,  2.63s/it]"
     ]
    }
   ],
   "source": [
    "for epoch in range(EPOCHS):\n",
    "    pbar = tqdm(range(0, len(train_data), BATCH_SIZE))\n",
    "    for i in pbar:\n",
    "        model.train()\n",
    "        batch_X = train_data[i:i+BATCH_SIZE].to(device)\n",
    "        model.zero_grad()\n",
    "        \n",
    "        enc_gt, enc_traj, ko = model(batch_X)\n",
    "\n",
    "        loss, state_mse, latent_mse, inf_mse = koopman_loss(enc_gt, enc_traj, params)\n",
    "        loss.backward()\n",
    "        optimizer.step()\n",
    "\n",
    "        if i % 100 == 0:\n",
    "            model.eval()\n",
    "            val_enc_gt, val_enc_traj, ko = model(val_data)\n",
    "            val_loss, val_state_mse, val_latent_mse, val_inf_mse = koopman_loss(val_enc_gt, val_enc_traj, params)\n",
    "\n",
    "            # save to dataframe\n",
    "            df.loc[len(df)+1] = [MODEL_NAME, epoch, float(loss), float(val_loss), \n",
    "                                 float(state_mse), float(val_state_mse), float(latent_mse), float(val_latent_mse),\n",
    "                                 float(inf_mse), float(val_inf_mse)]\n",
    "\n",
    "            # update progress bar\n",
    "            pbar.set_description(\"loss: {:.4f}, val_loss: {:.4f}, state_mse: {:.4f}\".format(loss, \n",
    "                                                                                            val_loss, \n",
    "                                                                                            state_mse))\n",
    "            pbar.refresh()\n",
    "            \n",
    "        if i % 1000 == 0:\n",
    "            if SAVE_FIG:\n",
    "                fig_dir = os.path.join(FIG_DIR, \"{}.png\".format(int(time.time())))\n",
    "                plot_val3D(val_data, model, val_state_mse, fig_dir)\n",
    "            \n",
    "        if i % 10000 ==0:\n",
    "            \n",
    "            if SAVE_EIG:\n",
    "                enc_gt, enc_traj, ko = model(train_data[:10000])\n",
    "                ko = ko.cpu().detach().numpy()\n",
    "                enc_traj = enc_traj[:, 0, :].cpu().detach().numpy()\n",
    "\n",
    "                fig_dir = os.path.join(EIG_DIR, \"{}.png\".format(int(time.time())))\n",
    "                plot_eigen_func(ko, enc_traj, train_data.cpu()[:10000], fig_dir=fig_dir)\n",
    "                \n",
    "            if SAVE_DIST:\n",
    "                dist_dir = os.path.join(DIST_DIR, \"{}.png\".format(int(time.time())))\n",
    "                plot_layers(model.named_parameters(), val_state_mse, dist_dir, n_rows=2)\n",
    "            \n",
    "        saver(model, model_dir, df, MODEL_NAME, float(val_loss), SAVE_METHOD)\n",
    "            \n",
    "    df.to_csv(log_dir, index=False)               "
   ]
  },
  {
   "cell_type": "code",
   "execution_count": null,
   "metadata": {},
   "outputs": [],
   "source": []
  }
 ],
 "metadata": {
  "kernelspec": {
   "display_name": "Python 3",
   "language": "python",
   "name": "python3"
  },
  "language_info": {
   "codemirror_mode": {
    "name": "ipython",
    "version": 3
   },
   "file_extension": ".py",
   "mimetype": "text/x-python",
   "name": "python",
   "nbconvert_exporter": "python",
   "pygments_lexer": "ipython3",
   "version": "3.7.6"
  }
 },
 "nbformat": 4,
 "nbformat_minor": 2
}
