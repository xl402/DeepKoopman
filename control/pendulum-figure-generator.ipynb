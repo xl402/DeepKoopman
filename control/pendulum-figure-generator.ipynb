{
 "cells": [
  {
   "cell_type": "code",
   "execution_count": 12,
   "metadata": {},
   "outputs": [
    {
     "name": "stdout",
     "output_type": "stream",
     "text": [
      "The autoreload extension is already loaded. To reload it, use:\n",
      "  %reload_ext autoreload\n"
     ]
    }
   ],
   "source": [
    "import pandas as pd\n",
    "import numpy as np\n",
    "import matplotlib.pyplot as plt\n",
    "import os\n",
    "from scipy import interpolate, signal\n",
    "from scipy.integrate import odeint\n",
    "import harold\n",
    "from control import *\n",
    "import torch\n",
    "from ilqr_pendulum import *\n",
    "\n",
    "os.chdir(\"../\")\n",
    "\n",
    "from helper_fn import *\n",
    "plt.rcParams.update({'font.size': 22})\n",
    "%load_ext autoreload\n",
    "%autoreload 2"
   ]
  },
  {
   "cell_type": "code",
   "execution_count": 4,
   "metadata": {},
   "outputs": [],
   "source": [
    "val_data = torch.tensor(np.load(\"data/pendulum_val.npy\")).float()\n",
    "denis = torch.load(\"logs/denis_pendulum/model-denis-pend-best.pt\", map_location=torch.device('cpu'))\n",
    "lren = torch.load(\"logs/lren_pendulum/model-lren-pend-best.pt\", map_location=torch.device('cpu'))\n",
    "\n",
    "enc_gt_de, enc_traj_de, ko_all = denis(val_data)\n",
    "enc_gt_lr, enc_traj_lr = lren(val_data)\n",
    "val_data = val_data.detach().numpy()"
   ]
  },
  {
   "cell_type": "code",
   "execution_count": 8,
   "metadata": {},
   "outputs": [],
   "source": [
    "def pendulum_de(y, t, K):\n",
    "    phi, omega = y\n",
    "    y_tensor = torch.tensor(y, dtype=torch.float32).view((1, 1, 2))\n",
    "    _, enc_traj, _ = denis(y_tensor)\n",
    "    latent = enc_traj[0, -1, :].detach().numpy()\n",
    "    u = K.dot(latent)[0, 0]\n",
    "    t_u_de.append(t)\n",
    "    de_u.append(u)\n",
    "    dydt = [omega, -np.sin(phi) - u]\n",
    "    return dydt\n",
    "\n",
    "def pendulum_lr(y, t, K):\n",
    "    phi, omega = y\n",
    "    y_tensor = torch.tensor(y, dtype=torch.float32).view((1, 1, 2))\n",
    "    _, enc_traj = lren(y_tensor)\n",
    "    latent = enc_traj[0, -1, :].detach().numpy()\n",
    "    u = K.dot(latent)[0, 0]\n",
    "    t_u_lr.append(t)\n",
    "    lr_u.append(u)\n",
    "    dydt = [omega, -np.sin(phi) - u]\n",
    "    return dydt"
   ]
  },
  {
   "cell_type": "code",
   "execution_count": 14,
   "metadata": {},
   "outputs": [],
   "source": [
    "def run_sim(idx):\n",
    "    init = val_data[idx, 0, :]\n",
    "    print(\"Random Initial: {}\".format(init))\n",
    "    \n",
    "    # get initial encodings\n",
    "    enc_init_de = enc_traj_de[idx, 0, :].detach().numpy()\n",
    "    enc_init_lr = enc_traj_lr[idx, 0, :].detach().numpy()\n",
    "\n",
    "    # get koopman operators\n",
    "    ko = ko_all[idx].detach().numpy()\n",
    "    ko_lren = list(lren.parameters())[-1].detach().numpy()\n",
    "\n",
    "    pred_de = [enc_init_de]\n",
    "    pred_lr = [enc_init_lr]\n",
    "    n_steps = 500\n",
    "\n",
    "    for i in range(n_steps):\n",
    "        pred_de.append(np.matmul(pred_de[-1], ko))\n",
    "        pred_lr.append(np.matmul(pred_lr[-1], np.transpose(ko_lren)))\n",
    "\n",
    "    pred_de = np.asarray(pred_de)[:, :2]\n",
    "    pred_lr = np.asarray(pred_lr)[:, :2]\n",
    "\n",
    "    t = np.arange(0, n_steps*0.1+0.1, 0.1)\n",
    "    \n",
    "    A_de = np.transpose(ko.copy())\n",
    "    A_lr = np.transpose(ko_lren.copy())\n",
    "    dim = 2\n",
    "\n",
    "    ldim_de = len(enc_init_de) - dim\n",
    "    ldim_lr = len(enc_init_lr) - dim\n",
    "\n",
    "    Ts = 0.1\n",
    "\n",
    "    B_de = np.append([0, 1], np.zeros((1, ldim_de)))[:, np.newaxis]\n",
    "    B_lr = np.append([0, 1], np.zeros((1, ldim_lr)))[:, np.newaxis]\n",
    "\n",
    "    C_de = np.append([1, 1], np.zeros((1, ldim_de)))\n",
    "    C_lr = np.append([1, 1], np.zeros((1, ldim_lr)))\n",
    "\n",
    "    #dsys_de = signal.StateSpace(A_de, B_de, C_de, .0, dt=Ts)\n",
    "    #dsys_lr = signal.StateSpace(A_lr, B_lr, C_lr, .0, dt=Ts)\n",
    "\n",
    "    G_de = harold.State(A_de, B_de, C_de, .0, dt=Ts)\n",
    "    G_lr = harold.State(A_lr, B_lr, C_lr, .0, dt=Ts)\n",
    "\n",
    "    sys_de = harold.undiscretize(G_de, 'tustin')\n",
    "    sys_lr = harold.undiscretize(G_lr, 'tustin')\n",
    "\n",
    "    As_de = sys_de.a\n",
    "    As_lr = sys_lr.a\n",
    "    \n",
    "    Q_de = np.zeros((A_de.shape));\n",
    "    Q_de[0,0] = 1;\n",
    "    Q_de[1,1] = 1;\n",
    "\n",
    "    Q_lr = np.zeros((A_lr.shape));\n",
    "    Q_lr[0,0] = 1;\n",
    "    Q_lr[1,1] = 1;\n",
    "\n",
    "    B_de = np.append([0, 1], np.zeros((1, ldim_de)))[:, np.newaxis]\n",
    "    B_lr = np.append([0, 1], np.zeros((1, ldim_lr)))[:, np.newaxis]\n",
    "\n",
    "    K_de, S_de, E_de = lqr(As_de, B_de, Q_de, 1)\n",
    "\n",
    "    denis.params['n_shifts'] = 1\n",
    "    lren.params['n_shifts'] = 1\n",
    "    K_lr, S_lr, E_lr = lqr(As_lr, B_lr, Q_lr, 1.)\n",
    "    \n",
    "    dt = 0.1\n",
    "    N = 101\n",
    "    t1 = np.arange(0, dt*(N+1), dt)\n",
    "\n",
    "    y0 = init.copy()\n",
    "    de_u = []\n",
    "    lr_u = []\n",
    "    t_u_lr = []\n",
    "    t_u_de = []\n",
    "\n",
    "    sol_de = odeint(pendulum_de, y0, t1, args=(K_de,))\n",
    "    sol_lr = odeint(pendulum_lr, y0, t1, args=(K_lr,))\n",
    "    \n",
    "    # Initialize pendulum dynamics\n",
    "    dt = 0.1\n",
    "    dynamics = ilqr_pend(dt)\n",
    "    cost = pend_cost()\n",
    "\n",
    "    N = 101  # Number of time-steps in trajectory.\n",
    "    x0 = y0.copy()  # Initial state.\n",
    "    us_init = np.random.uniform(-1, 1, (N, 1)) # Random initial action path.\n",
    "\n",
    "    ilqr = iLQR(dynamics, cost, N)\n",
    "    xs, us = ilqr.fit(x0, us_init)\n",
    "    t = np.arange(0, dt*(N+1), dt)\n",
    "    \n",
    "    return xs, sol_de, sol_lr, t    "
   ]
  },
  {
   "cell_type": "code",
   "execution_count": 69,
   "metadata": {},
   "outputs": [
    {
     "name": "stdout",
     "output_type": "stream",
     "text": [
      "Random Initial: [0.007542   0.02434733]\n"
     ]
    }
   ],
   "source": [
    "#3456\n",
    "\n",
    "xs, sol_de, sol_lr, t = run_sim(70)"
   ]
  },
  {
   "cell_type": "code",
   "execution_count": 62,
   "metadata": {},
   "outputs": [],
   "source": [
    "def hamiltonian(val):\n",
    "    x1, x2 = val\n",
    "    return x2**2/2 + 9.81 * (1-np.cos(x1))"
   ]
  },
  {
   "cell_type": "code",
   "execution_count": 183,
   "metadata": {},
   "outputs": [],
   "source": [
    "energies = [hamiltonian(i) for i in val_data[:, 0, :]]"
   ]
  },
  {
   "cell_type": "code",
   "execution_count": 67,
   "metadata": {},
   "outputs": [],
   "source": [
    "low2high_e = np.argsort(energies)"
   ]
  },
  {
   "cell_type": "code",
   "execution_count": 187,
   "metadata": {},
   "outputs": [],
   "source": [
    "to_show = low2high_e[np.linspace(0, 5000-2, 16).astype(int)]"
   ]
  },
  {
   "cell_type": "code",
   "execution_count": 190,
   "metadata": {
    "scrolled": true
   },
   "outputs": [
    {
     "name": "stdout",
     "output_type": "stream",
     "text": [
      "Random Initial: [-0.3968316 -1.8962951]\n",
      "Random Initial: [ 0.30790737 -0.25871044]\n",
      "Random Initial: [-0.49371964 -0.6786607 ]\n",
      "Random Initial: [-1.8311784   0.47708386]\n",
      "Random Initial: [-1.242141  -0.9326909]\n",
      "Random Initial: [0.7510298  0.11656838]\n",
      "Random Initial: [-2.2656043   0.05431249]\n",
      "Random Initial: [ 2.1946468  -0.02305265]\n",
      "Random Initial: [ 0.03252576 -1.7388539 ]\n",
      "Random Initial: [-0.44564158 -1.6138763 ]\n",
      "Random Initial: [-2.311608    0.38698125]\n",
      "Random Initial: [-1.7341015  -0.60069484]\n",
      "Random Initial: [-0.1997176 -1.1930271]\n",
      "Random Initial: [ 0.8705217  -0.06772066]\n",
      "Random Initial: [ 0.03246766 -0.45242938]\n",
      "Random Initial: [1.8205522 0.3200167]\n"
     ]
    },
    {
     "data": {
      "image/png": "[encoded data removed]",
      "text/plain": [
       "<Figure size 1440x1440 with 16 Axes>"
      ]
     },
     "metadata": {},
     "output_type": "display_data"
    }
   ],
   "source": [
    "import matplotlib.animation as animation\n",
    "#fig = plt.figure(figsize=(8, 8), facecolor='w')\n",
    "#ax = fig.add_subplot(1, 1, 1)\n",
    "fig, ax = plt.subplots(4, 4, figsize=(20, 20), facecolor='w')\n",
    "plt.rcParams['font.size'] = 15\n",
    "\n",
    "for i in range(4):\n",
    "    for j in range(4):\n",
    "        ax[i, j].set_xlim([-1, 1])\n",
    "        ax[i, j].set_ylim([-2, 2])\n",
    "        ax[i, j].set_yticks([])\n",
    "        ax[i, j].set_xticks([])\n",
    "        \n",
    "lines = []\n",
    "lns = [[] for i in range(102)]\n",
    "for i in range(4):\n",
    "    for j in range(4):\n",
    "        idx = j+i*4\n",
    "        xs, sol_de, sol_lr, t = run_sim(idx)\n",
    "        for k, ti in enumerate(range(len(sol_de))):\n",
    "            ln, = ax[i, j].plot([0, np.sin(sol_de[ti, 0])], [0, -np.cos(sol_de[ti, 0])],\n",
    "                          color='k', lw=3)\n",
    "\n",
    "            ln1, = ax[i, j].plot([0, np.sin(sol_lr[ti, 0])], [0, -np.cos(sol_lr[ti, 0])],\n",
    "                          color='r', lw=3)\n",
    "\n",
    "            ln2, = ax[i, j].plot([0, np.sin(xs[ti, 0])], [0, -np.cos(xs[ti, 0])],\n",
    "                          color='b', lw=3)\n",
    "\n",
    "            lns[k].append(ln)\n",
    "            lns[k].append(ln1)\n",
    "            lns[k].append(ln2)\n",
    "            \n",
    "            if idx==15:\n",
    "                lines.append(ln)\n",
    "                lines.append(ln1)\n",
    "                lines.append(ln2)\n",
    "        ax[i, j].set_aspect('equal', 'datalim')\n",
    "#ax.legend()\n",
    "labels=['DENIS', 'LREN', 'iLQR']\n",
    "plt.figlegend(lines, labels, loc = 'upper left', labelspacing=0. , fontsize=30)\n",
    "\n",
    "\n",
    "interval=50\n",
    "ani = animation.ArtistAnimation(fig, lns, interval=interval, repeat=True)\n",
    "fn = 'figures/pendulum_controlled_ilqr_all'\n",
    "ani.save(fn+'.mp4',writer='ffmpeg')"
   ]
  },
  {
   "cell_type": "code",
   "execution_count": 164,
   "metadata": {},
   "outputs": [
    {
     "data": {
      "text/plain": [
       "612"
      ]
     },
     "execution_count": 164,
     "metadata": {},
     "output_type": "execute_result"
    }
   ],
   "source": [
    "len(lns[0])"
   ]
  },
  {
   "cell_type": "code",
   "execution_count": 158,
   "metadata": {},
   "outputs": [],
   "source": [
    "lns = [[] for i in range(12)]\n"
   ]
  },
  {
   "cell_type": "code",
   "execution_count": 160,
   "metadata": {},
   "outputs": [],
   "source": [
    "lns[0].append(12)"
   ]
  },
  {
   "cell_type": "code",
   "execution_count": 161,
   "metadata": {},
   "outputs": [
    {
     "data": {
      "text/plain": [
       "[[12], [], [], [], [], [], [], [], [], [], [], []]"
      ]
     },
     "execution_count": 161,
     "metadata": {},
     "output_type": "execute_result"
    }
   ],
   "source": [
    "lns"
   ]
  },
  {
   "cell_type": "code",
   "execution_count": null,
   "metadata": {},
   "outputs": [],
   "source": []
  }
 ],
 "metadata": {
  "kernelspec": {
   "display_name": "Python 3",
   "language": "python",
   "name": "python3"
  },
  "language_info": {
   "codemirror_mode": {
    "name": "ipython",
    "version": 3
   },
   "file_extension": ".py",
   "mimetype": "text/x-python",
   "name": "python",
   "nbconvert_exporter": "python",
   "pygments_lexer": "ipython3",
   "version": "3.7.6"
  }
 },
 "nbformat": 4,
 "nbformat_minor": 2
}
