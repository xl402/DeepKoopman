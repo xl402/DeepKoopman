{
 "cells": [
  {
   "cell_type": "code",
   "execution_count": 1,
   "metadata": {
    "ExecuteTime": {
     "end_time": "2020-01-05T13:40:07.731646Z",
     "start_time": "2020-01-05T13:40:02.529900Z"
    }
   },
   "outputs": [],
   "source": [
    "import theano.tensor as T\n",
    "import numpy as np\n",
    "import matplotlib.pyplot as plt \n",
    "\n",
    "from ilqr import iLQR\n",
    "from ilqr.dynamics import AutoDiffDynamics\n",
    "from ilqr.cost import QRCost"
   ]
  },
  {
   "cell_type": "code",
   "execution_count": 2,
   "metadata": {
    "ExecuteTime": {
     "end_time": "2020-01-05T13:40:10.031215Z",
     "start_time": "2020-01-05T13:40:07.739686Z"
    }
   },
   "outputs": [],
   "source": [
    "x = T.dscalar(\"x\")  # Position.\n",
    "x_dot = T.dscalar(\"x_dot\")  # Velocity.\n",
    "u = T.dscalar(\"u\")  # Force.\n",
    "\n",
    "dt = 0.1\n",
    " \n",
    "#x_dot_dot = l*(x_dot - x**2) -u\n",
    "x_dot_dot = -np.sin(x) - u\n",
    "\n",
    "f = T.stack([\n",
    "    x + (x_dot) * dt,\n",
    "    x_dot + x_dot_dot * dt,\n",
    "])\n",
    "\n",
    "x_inputs = [x, x_dot]  # State vector.\n",
    "u_inputs = [u]  # Control vector.\n",
    "\n",
    "dynamics = AutoDiffDynamics(f, x_inputs, u_inputs)"
   ]
  },
  {
   "cell_type": "code",
   "execution_count": 3,
   "metadata": {
    "ExecuteTime": {
     "end_time": "2020-01-05T13:40:10.048477Z",
     "start_time": "2020-01-05T13:40:10.042516Z"
    }
   },
   "outputs": [],
   "source": [
    "state_size = 2  # [position, velocity]\n",
    "action_size = 1  # [force]\n",
    "\n",
    "# The coefficients weigh how much your state error is worth to you vs\n",
    "# the size of your controls. You can favor a solution that uses smaller\n",
    "# controls by increasing R's coefficient.\n",
    "Q = 1 * np.eye(state_size)\n",
    "R = 1 * np.eye(action_size)\n",
    "\n",
    "# This is optional if you want your cost to be computed differently at a\n",
    "# terminal state.\n",
    "#Q_terminal = np.array([[1.0, 0.0], [0.0, 1.0]])\n",
    "\n",
    "# State goal is set to a position of 1 m with no velocity.\n",
    "x_goal = np.array([0.0, 0.0])\n",
    "\n",
    "# NOTE: This is instantaneous and completely accurate.\n",
    "cost = QRCost(Q, R, x_goal=x_goal)"
   ]
  },
  {
   "cell_type": "code",
   "execution_count": 4,
   "metadata": {
    "ExecuteTime": {
     "end_time": "2020-01-05T13:40:14.710409Z",
     "start_time": "2020-01-05T13:40:10.057628Z"
    }
   },
   "outputs": [],
   "source": [
    "N = 101  # Number of time-steps in trajectory.\n",
    "x0 = np.array([ 3, -3])  # Initial state.\n",
    "us_init = np.random.uniform(-1, 1, (N, 1)) # Random initial action path.\n",
    "\n",
    "ilqr = iLQR(dynamics, cost, N)\n",
    "xs, us = ilqr.fit(x0, us_init)"
   ]
  },
  {
   "cell_type": "code",
   "execution_count": 5,
   "metadata": {
    "ExecuteTime": {
     "end_time": "2020-01-05T13:40:29.887987Z",
     "start_time": "2020-01-05T13:40:29.518490Z"
    }
   },
   "outputs": [
    {
     "data": {
      "image/png": "[encoded data removed]",
      "text/plain": [
       "<Figure size 432x288 with 1 Axes>"
      ]
     },
     "metadata": {
      "needs_background": "light"
     },
     "output_type": "display_data"
    }
   ],
   "source": [
    "t = np.arange(0, dt*(N+1), dt)\n",
    "plt.plot(t, xs[:,0], label=r'$\\theta$'+' ilqr')\n",
    "plt.plot(t, xs[:,1], label=r'$\\omega$'+' ilqr')\n",
    "plt.legend()\n",
    "plt.show()"
   ]
  },
  {
   "cell_type": "code",
   "execution_count": null,
   "metadata": {},
   "outputs": [],
   "source": []
  }
 ],
 "metadata": {
  "kernelspec": {
   "display_name": "Python 3",
   "language": "python",
   "name": "python3"
  },
  "language_info": {
   "codemirror_mode": {
    "name": "ipython",
    "version": 3
   },
   "file_extension": ".py",
   "mimetype": "text/x-python",
   "name": "python",
   "nbconvert_exporter": "python",
   "pygments_lexer": "ipython3",
   "version": "3.7.6"
  },
  "varInspector": {
   "cols": {
    "lenName": 16,
    "lenType": 16,
    "lenVar": 40
   },
   "kernels_config": {
    "python": {
     "delete_cmd_postfix": "",
     "delete_cmd_prefix": "del ",
     "library": "var_list.py",
     "varRefreshCmd": "print(var_dic_list())"
    },
    "r": {
     "delete_cmd_postfix": ") ",
     "delete_cmd_prefix": "rm(",
     "library": "var_list.r",
     "varRefreshCmd": "cat(var_dic_list()) "
    }
   },
   "types_to_exclude": [
    "module",
    "function",
    "builtin_function_or_method",
    "instance",
    "_Feature"
   ],
   "window_display": false
  }
 },
 "nbformat": 4,
 "nbformat_minor": 2
}
